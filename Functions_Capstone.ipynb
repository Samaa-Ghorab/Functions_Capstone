{
 "cells": [
  {
   "cell_type": "code",
   "execution_count": 1,
   "id": "78b94d57",
   "metadata": {},
   "outputs": [],
   "source": [
    "# Identify the game board\n",
    "game_board=[[\"\",\"\",\"\"],\n",
    "           [\"\",\"\",\"\"],\n",
    "           [\"\",\"\",\"\"] ]"
   ]
  },
  {
   "cell_type": "code",
   "execution_count": 2,
   "id": "aa716dbf",
   "metadata": {},
   "outputs": [
    {
     "name": "stdout",
     "output_type": "stream",
     "text": [
      "['', '', '']\n",
      "['', '', '']\n",
      "['', '', '']\n"
     ]
    }
   ],
   "source": [
    "#A function to print the current state of the game board\n",
    "def print_game_board(game_board):\n",
    "    for row in game_board:\n",
    "        print(row)\n",
    "        \n",
    "print_game_board(game_board)\n"
   ]
  },
  {
   "cell_type": "code",
   "execution_count": 3,
   "id": "fcb1fbd4",
   "metadata": {},
   "outputs": [],
   "source": [
    "#A function to handle player moves\n",
    "def handle_move(game_board, player_symbol):\n",
    "    while True:\n",
    "        row = int(input(\"Enter the row number from 0 to 2 : \"))\n",
    "        col = int(input(\"Enter the column number from 0 to 2 : \"))\n",
    "        if game_board[row][col] == '':\n",
    "            game_board[row][col] = player_symbol\n",
    "            break\n",
    "        else:\n",
    "            print(\"Invalid place ,Try another one\")\n"
   ]
  },
  {
   "cell_type": "code",
   "execution_count": 7,
   "id": "b7126ba4",
   "metadata": {},
   "outputs": [],
   "source": [
    "#A function to check for a win\n",
    "def check_win(game_board, player_symbol):\n",
    "    for i in range(3):\n",
    "        # Check rows and columns\n",
    "        if all(game_board[i][j] == player_symbol for j in range(3)) or \\\n",
    "           all(game_board[j][i] == player_symbol for j in range(3)):\n",
    "            return True\n",
    "\n",
    "    # Check diagonals\n",
    "    if all(game_board[i][i] == player_symbol for i in range(3)) or \\\n",
    "       all(game_board[i][2-i] == player_symbol for i in range(3)):\n",
    "        return True\n",
    "\n",
    "    return False\n"
   ]
  },
  {
   "cell_type": "code",
   "execution_count": 8,
   "id": "3d34f1aa",
   "metadata": {},
   "outputs": [],
   "source": [
    "#A function to check for a Tie , end the game\n",
    "def check_tie(game_board):\n",
    "    return all(game_board[i][j] != '' for i in range(3) for j in range(3))\n"
   ]
  },
  {
   "cell_type": "code",
   "execution_count": 9,
   "id": "cbc14b8d",
   "metadata": {},
   "outputs": [
    {
     "name": "stdout",
     "output_type": "stream",
     "text": [
      "['', '', '']\n",
      "['', '', 'X']\n",
      "['', '', '']\n",
      "Player X's turn\n",
      "Enter the row number from 0 to 2 : 1\n",
      "Enter the column number from 0 to 2 : 2\n",
      "Invalid place ,Try another one\n",
      "Enter the row number from 0 to 2 : 1\n",
      "Enter the column number from 0 to 2 : 1\n",
      "['', '', '']\n",
      "['', 'X', 'X']\n",
      "['', '', '']\n",
      "Player O's turn\n",
      "Enter the row number from 0 to 2 : 1\n",
      "Enter the column number from 0 to 2 : 0\n",
      "['', '', '']\n",
      "['O', 'X', 'X']\n",
      "['', '', '']\n",
      "Player X's turn\n",
      "Enter the row number from 0 to 2 : 2\n",
      "Enter the column number from 0 to 2 : 0\n",
      "['', '', '']\n",
      "['O', 'X', 'X']\n",
      "['X', '', '']\n",
      "Player O's turn\n",
      "Enter the row number from 0 to 2 : 2\n",
      "Enter the column number from 0 to 2 : 1\n",
      "['', '', '']\n",
      "['O', 'X', 'X']\n",
      "['X', 'O', '']\n",
      "Player X's turn\n",
      "Enter the row number from 0 to 2 : 2\n",
      "Enter the column number from 0 to 2 : 2\n",
      "['', '', '']\n",
      "['O', 'X', 'X']\n",
      "['X', 'O', 'X']\n",
      "Player O's turn\n",
      "Enter the row number from 0 to 2 : 0\n",
      "Enter the column number from 0 to 2 : 0\n",
      "['O', '', '']\n",
      "['O', 'X', 'X']\n",
      "['X', 'O', 'X']\n",
      "Player X's turn\n",
      "Enter the row number from 0 to 2 : 0\n",
      "Enter the column number from 0 to 2 : 2\n",
      "Player X wins!\n"
     ]
    }
   ],
   "source": [
    "\n",
    "def main():\n",
    "    current_player = 'X'\n",
    "    while True:\n",
    "        print_game_board(game_board)\n",
    "        print(f\"Player {current_player}'s turn\")\n",
    "        handle_move(game_board, current_player)\n",
    "\n",
    "        if check_win(game_board, current_player):\n",
    "            print(f\"Player {current_player} wins!\")\n",
    "            break\n",
    "        elif check_tie(game_board):\n",
    "            print(\"It's a tie!\")\n",
    "            break\n",
    "\n",
    "        current_player = 'O' if current_player == 'X' else 'X'\n",
    "\n",
    "# Start the game\n",
    "main()"
   ]
  },
  {
   "cell_type": "code",
   "execution_count": null,
   "id": "889b1926",
   "metadata": {},
   "outputs": [],
   "source": []
  },
  {
   "cell_type": "code",
   "execution_count": null,
   "id": "0f4e0be0",
   "metadata": {},
   "outputs": [],
   "source": []
  }
 ],
 "metadata": {
  "kernelspec": {
   "display_name": "Python 3 (ipykernel)",
   "language": "python",
   "name": "python3"
  },
  "language_info": {
   "codemirror_mode": {
    "name": "ipython",
    "version": 3
   },
   "file_extension": ".py",
   "mimetype": "text/x-python",
   "name": "python",
   "nbconvert_exporter": "python",
   "pygments_lexer": "ipython3",
   "version": "3.9.7"
  }
 },
 "nbformat": 4,
 "nbformat_minor": 5
}
